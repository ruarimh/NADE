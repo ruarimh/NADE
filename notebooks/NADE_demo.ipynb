{
 "cells": [
  {
   "cell_type": "code",
   "execution_count": 1,
   "id": "cb44d58a",
   "metadata": {},
   "outputs": [],
   "source": [
    "import sys\n",
    "import os\n",
    "\n",
    "# Set up project_root and src_path\n",
    "notebook_dir = os.path.dirname(os.path.abspath(__file__)) if '__file__' in globals() else os.getcwd()\n",
    "project_root = os.path.abspath(os.path.join(notebook_dir, '..'))\n",
    "src_path = os.path.join(project_root, \"src\")\n",
    "\n",
    "if src_path not in sys.path:\n",
    "    sys.path.insert(0, src_path)\n",
    "\n",
    "# Now import from src\n",
    "from combine_audio import run_combine_audio\n",
    "from model_inference import run_model_inference\n",
    "from background_amplitude import run_background_amplitude_analysis"
   ]
  },
  {
   "cell_type": "code",
   "execution_count": 2,
   "id": "4d4d7639",
   "metadata": {},
   "outputs": [],
   "source": [
    "species_names = [\"Meadow Pipit\", \"Common Cuckoo\"]"
   ]
  },
  {
   "cell_type": "code",
   "execution_count": 3,
   "id": "4e8633d5",
   "metadata": {},
   "outputs": [],
   "source": [
    "# Now build all paths relative to project_root\n",
    "fg_audio_path = os.path.join(project_root, \"data\", \"foreground_audio\")\n",
    "bg_audio_path = os.path.join(project_root, \"data\", \"background_audio\")\n",
    "combined_audio_path = os.path.join(project_root, \"data\", \"combined_audio\")\n",
    "output_path = os.path.join(project_root, \"data\", \"output\")\n",
    "bg_audio_folder = os.path.join(project_root, \"data\", \"background_audio\")\n",
    "output_background_amplitudes_path = os.path.join(project_root, \"data\", \"output\", \"background_amplitudes.csv\")\n",
    "lookup_table_path = os.path.join(project_root, \"data\", \"species_lookup.json\")\n",
    "output_confidences_path = os.path.join(project_root, \"data\", \"output\", \"model_confidences.csv\")\n"
   ]
  },
  {
   "cell_type": "code",
   "execution_count": null,
   "id": "109ad9f8",
   "metadata": {},
   "outputs": [],
   "source": [
    "run_background_amplitude_analysis(\n",
    "    species_names=species_names,\n",
    "    bg_audio_folder=bg_audio_folder,\n",
    "    output_csv_path=output_background_amplitudes_path,\n",
    "    project_root=project_root\n",
    ")"
   ]
  },
  {
   "cell_type": "code",
   "execution_count": null,
   "id": "e024a09c",
   "metadata": {},
   "outputs": [],
   "source": [
    "run_combine_audio(\n",
    "    species_names=species_names,\n",
    "    fg_audio_path=fg_audio_path,\n",
    "    bg_audio_path=bg_audio_path,\n",
    "    combined_audio_path=combined_audio_path,\n",
    "    output_path=output_path\n",
    ")"
   ]
  },
  {
   "cell_type": "code",
   "execution_count": null,
   "id": "85199cb6",
   "metadata": {},
   "outputs": [],
   "source": [
    "run_model_inference(\n",
    "    combined_audio_root=combined_audio_path,\n",
    "    species_names=species_names,\n",
    "    lookup_table_path=lookup_table_path,\n",
    "    output_csv_path=output_confidences_path,\n",
    "    n_cpus=None,\n",
    "    min_conf=0.01,\n",
    "    skip_processing=False\n",
    ")"
   ]
  }
 ],
 "metadata": {
  "kernelspec": {
   "display_name": "Python 3",
   "language": "python",
   "name": "python3"
  },
  "language_info": {
   "codemirror_mode": {
    "name": "ipython",
    "version": 3
   },
   "file_extension": ".py",
   "mimetype": "text/x-python",
   "name": "python",
   "nbconvert_exporter": "python",
   "pygments_lexer": "ipython3",
   "version": "3.10.18"
  }
 },
 "nbformat": 4,
 "nbformat_minor": 5
}
